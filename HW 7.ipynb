{
 "cells": [
  {
   "cell_type": "code",
   "execution_count": 1,
   "id": "a82df92b",
   "metadata": {},
   "outputs": [],
   "source": [
    "# задание 2"
   ]
  },
  {
   "cell_type": "code",
   "execution_count": 4,
   "id": "f818fe10",
   "metadata": {},
   "outputs": [],
   "source": [
    "import numpy as np\n",
    "import pandas as pd\n",
    "import matplotlib.pyplot as plt\n",
    "\n",
    "%matplotlib inline"
   ]
  },
  {
   "cell_type": "code",
   "execution_count": 5,
   "id": "c89835dc",
   "metadata": {},
   "outputs": [],
   "source": [
    "def _mse(b, x, y):\n",
    "    return np.sum((b*x-y)**2)/len(x)"
   ]
  },
  {
   "cell_type": "code",
   "execution_count": null,
   "id": "776dee45",
   "metadata": {},
   "outputs": [],
   "source": []
  },
  {
   "cell_type": "code",
   "execution_count": 6,
   "id": "285727f1",
   "metadata": {},
   "outputs": [],
   "source": [
    "zp = np.array([35, 45, 190, 200, 40, 70, 54, 150, 120, 110])"
   ]
  },
  {
   "cell_type": "code",
   "execution_count": 7,
   "id": "42b5d8ac",
   "metadata": {},
   "outputs": [],
   "source": [
    "ks = np.array([401, 574, 874, 919, 459, 739, 653, 902, 746, 832])"
   ]
  },
  {
   "cell_type": "code",
   "execution_count": 8,
   "id": "67516402",
   "metadata": {},
   "outputs": [
    {
     "data": {
      "text/plain": [
       "203812.48504"
      ]
     },
     "execution_count": 8,
     "metadata": {},
     "output_type": "execute_result"
    }
   ],
   "source": [
    "_mse(2.62, zp, ks)"
   ]
  },
  {
   "cell_type": "code",
   "execution_count": 9,
   "id": "2edd207f",
   "metadata": {},
   "outputs": [],
   "source": [
    "def _mse_p(b,x,y):\n",
    "    return (2/len(x))*np.sum((b*x-y)*x)"
   ]
  },
  {
   "cell_type": "code",
   "execution_count": 10,
   "id": "0e141855",
   "metadata": {},
   "outputs": [],
   "source": [
    "alpha=1e-06"
   ]
  },
  {
   "cell_type": "code",
   "execution_count": 11,
   "id": "0ad4b10a",
   "metadata": {},
   "outputs": [
    {
     "name": "stdout",
     "output_type": "stream",
     "text": [
      "Итерация #0, b=0.25952808000000005, mse=493237.7212546963\n",
      "Итерация #100, b=5.54537842245223, mse=58151.31823171113\n",
      "Итерация #200, b=5.868748638669329, mse=56522.97550129376\n",
      "Итерация #300, b=5.888531320728348, mse=56516.88130936019\n",
      "Итерация #400, b=5.8897415574471985, mse=56516.85850140053\n",
      "Итерация #500, b=5.889815595583751, mse=56516.858416040064\n",
      "Итерация #600, b=5.889820124983314, mse=56516.85841572062\n",
      "Итерация #628, b=5.889820285147628, mse=56516.85841571966,\n",
      "Достигнут минимум.\n"
     ]
    }
   ],
   "source": [
    "b=0.1\n",
    "mse_min=_mse(b,zp,ks)\n",
    "i_min=1\n",
    "b_min=b\n",
    "for i in range(10000):\n",
    "    b-=alpha*_mse_p(b,zp,ks)\n",
    "    if i%100==0:\n",
    "        print(f'Итерация #{i}, b={b}, mse={_mse(b, zp,ks)}')\n",
    "    if _mse(b,zp,ks)>mse_min:\n",
    "        print(f'Итерация #{i_min}, b={b_min}, mse={mse_min},\\nДостигнут минимум.')\n",
    "        break\n",
    "    else:\n",
    "        mse_min=_mse(b,zp,ks)\n",
    "        i_min=i\n",
    "        b_min=b"
   ]
  },
  {
   "cell_type": "code",
   "execution_count": null,
   "id": "dcc7d69c",
   "metadata": {},
   "outputs": [],
   "source": []
  }
 ],
 "metadata": {
  "kernelspec": {
   "display_name": "Python 3",
   "language": "python",
   "name": "python3"
  },
  "language_info": {
   "codemirror_mode": {
    "name": "ipython",
    "version": 3
   },
   "file_extension": ".py",
   "mimetype": "text/x-python",
   "name": "python",
   "nbconvert_exporter": "python",
   "pygments_lexer": "ipython3",
   "version": "3.8.8"
  }
 },
 "nbformat": 4,
 "nbformat_minor": 5
}
